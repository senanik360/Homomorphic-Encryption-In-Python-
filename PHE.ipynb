{
 "cells": [
  {
   "cell_type": "code",
   "execution_count": 3,
   "id": "6690f839-5109-4b7d-a3a3-b03c6c300f1a",
   "metadata": {},
   "outputs": [],
   "source": [
    "from lightphe import LightPHE"
   ]
  },
  {
   "cell_type": "markdown",
   "id": "9bc65d9e-358b-4749-bfd2-c346732cee8c",
   "metadata": {},
   "source": [
    "# Build Cryptosystem"
   ]
  },
  {
   "cell_type": "code",
   "execution_count": 4,
   "id": "3c1f87aa-b6fb-4c92-9c2d-ba46a94c8ffd",
   "metadata": {},
   "outputs": [],
   "source": [
    "cs = LightPHE(algorithm_name = 'RSA')"
   ]
  },
  {
   "cell_type": "code",
   "execution_count": 5,
   "id": "6c74719d-7018-4d0a-a4c7-c1fc24879fd8",
   "metadata": {},
   "outputs": [
    {
     "data": {
      "text/plain": [
       "{'private_key': {'d': 2870208146721992586405224273968594571620192043033961017892088412263383221692524204237354074586138493034821028344859261917634537026593295312605767548191156037772476472230260370844452705666463112806193507054339893551557736054436776558661204553912275320964155695304511745580676148993945960999058383657097418283},\n",
       " 'public_key': {'n': 36538052415544764611535669263602002814938997171345375765331832780638105157714037365544563754531113365704558446471629891231099980731006386927696170984660748596429000268467055275799612463259788265907594922296447915902348123505127188739187025612514044730549145941845939290853939317171194783653169683710126983697,\n",
       "  'e': 7591296918801958413423854014314374235665019233335942096170226017317685086475476447715950579270213006200803257674858623591366354530132425453708707416949426171441381289632244854077424075099807272494955558007560279425636885725908518562642045323181988061255959691931324392025838699485682416926969353260142415491}}"
      ]
     },
     "execution_count": 5,
     "metadata": {},
     "output_type": "execute_result"
    }
   ],
   "source": [
    "cs.cs.keys"
   ]
  },
  {
   "cell_type": "code",
   "execution_count": 6,
   "id": "9898ed0f-746d-4b65-b552-b47108f70f1e",
   "metadata": {},
   "outputs": [],
   "source": [
    "m1=10\n",
    "m2=20"
   ]
  },
  {
   "cell_type": "code",
   "execution_count": 7,
   "id": "1c811db2-10b9-42ea-88d7-a5d09aff65ba",
   "metadata": {},
   "outputs": [],
   "source": [
    "c1 = cs.encrypt(plaintext=m1)\n",
    "c2 = cs.encrypt(plaintext=m2)"
   ]
  },
  {
   "cell_type": "code",
   "execution_count": 8,
   "id": "c8ce73da-8fc7-4166-aeed-85165a6d3078",
   "metadata": {},
   "outputs": [
    {
     "data": {
      "text/plain": [
       "Ciphertext(15700709346250863313407422418245812321332958625842628739819081379997927132392699343577120068629880037172546858714064728667559278466652492095009840226900494390661914124910081355013210953216172341475260182408522067665613543453549413703640713209767045099158044994558240072434729395693851635207131559307007810115)"
      ]
     },
     "execution_count": 8,
     "metadata": {},
     "output_type": "execute_result"
    }
   ],
   "source": [
    "c1"
   ]
  },
  {
   "cell_type": "code",
   "execution_count": 9,
   "id": "bfc6da1b-7e6b-4e6b-b904-524ff54afa59",
   "metadata": {},
   "outputs": [
    {
     "data": {
      "text/plain": [
       "Ciphertext(30804632264463577212930155487994070132434546500295896799923912228806081596278262790779706801824207850470264966955361375853722727677047484796043556255874539365250061560398714406417584875792562023872627572210637904798488913913980090846481138282739863349323470879062020279517235860074016306016284582768952360540)"
      ]
     },
     "execution_count": 9,
     "metadata": {},
     "output_type": "execute_result"
    }
   ],
   "source": [
    "c2"
   ]
  },
  {
   "cell_type": "code",
   "execution_count": 10,
   "id": "1e7354a8-8a90-4229-a021-05d384fdece1",
   "metadata": {},
   "outputs": [
    {
     "data": {
      "text/plain": [
       "10"
      ]
     },
     "execution_count": 10,
     "metadata": {},
     "output_type": "execute_result"
    }
   ],
   "source": [
    "m1"
   ]
  },
  {
   "cell_type": "code",
   "execution_count": 11,
   "id": "230132cd-dff5-48a6-9778-288fc7ebbf17",
   "metadata": {},
   "outputs": [],
   "source": [
    "assert cs.decrypt(c1) == m1\n",
    "assert cs.decrypt(c2) == m2"
   ]
  },
  {
   "cell_type": "code",
   "execution_count": 12,
   "id": "8449bd60-649c-46b6-8141-2897fb03c7a7",
   "metadata": {},
   "outputs": [],
   "source": [
    "assert cs.decrypt(c1*c2) == m1*m2"
   ]
  },
  {
   "cell_type": "markdown",
   "id": "78bf0bdc-5305-49db-9845-42d374240f6b",
   "metadata": {},
   "source": [
    "## RSA Algorithm is homomorphic with respect to the Multiplication\n",
    "### BUt Algorithm is not homomorphic with respect to the Addition"
   ]
  },
  {
   "cell_type": "code",
   "execution_count": 13,
   "id": "888a6209-4a2a-4864-a3cc-e6a1eb016a08",
   "metadata": {},
   "outputs": [],
   "source": [
    "#assert cs.decrypt(c1+c2) == m1+m2 #---> it will show error"
   ]
  },
  {
   "cell_type": "markdown",
   "id": "70409de3-652c-424d-a891-052571a7aea0",
   "metadata": {},
   "source": [
    "# Let's try with Paillier Algorithm"
   ]
  },
  {
   "cell_type": "code",
   "execution_count": 14,
   "id": "6023b89c-7d9d-459f-9d5e-b4bcccaec01a",
   "metadata": {},
   "outputs": [],
   "source": [
    "cs = LightPHE(algorithm_name = 'Paillier')"
   ]
  },
  {
   "cell_type": "code",
   "execution_count": 15,
   "id": "1fff5147-b7dc-4cc5-a292-2030590fc08c",
   "metadata": {},
   "outputs": [],
   "source": [
    "m1=10\n",
    "m2=20"
   ]
  },
  {
   "cell_type": "code",
   "execution_count": 16,
   "id": "3793ee50-3383-43da-8499-3aa7b83c0be2",
   "metadata": {},
   "outputs": [],
   "source": [
    "c1 = cs.encrypt(plaintext=m1)\n",
    "c2 = cs.encrypt(plaintext=m2)"
   ]
  },
  {
   "cell_type": "code",
   "execution_count": 17,
   "id": "a15578f8-4955-4612-8959-3d7257410a75",
   "metadata": {},
   "outputs": [],
   "source": [
    "assert cs.decrypt(c1) == m1\n",
    "assert cs.decrypt(c2) == m2"
   ]
  },
  {
   "cell_type": "markdown",
   "id": "e6d65552-0a29-4e39-a03f-5c951a05bd65",
   "metadata": {},
   "source": [
    "## Pailler Algorithm is homomorphic with respect to the Addition"
   ]
  },
  {
   "cell_type": "code",
   "execution_count": 18,
   "id": "a3dbcc31-ad08-41f8-b1f3-d2b421e34c38",
   "metadata": {},
   "outputs": [],
   "source": [
    "assert cs.decrypt(c1+c2) == m1+m2"
   ]
  },
  {
   "cell_type": "markdown",
   "id": "3e1ca2d9-f163-4d2d-8476-def537531a1d",
   "metadata": {},
   "source": [
    "## But we can make it with a constant variable \n",
    "### Let's try it"
   ]
  },
  {
   "cell_type": "code",
   "execution_count": 19,
   "id": "047f8abe-1b72-445e-9cc9-07886d7504ca",
   "metadata": {},
   "outputs": [],
   "source": [
    "k = 10"
   ]
  },
  {
   "cell_type": "code",
   "execution_count": 20,
   "id": "1f07ac7e-5481-4011-b9b1-3ef250c9c887",
   "metadata": {},
   "outputs": [],
   "source": [
    "assert cs.decrypt(c1 * k) == m1 * k"
   ]
  },
  {
   "cell_type": "code",
   "execution_count": 21,
   "id": "0ff37a83-97ed-4b3b-a92c-ad44284395d2",
   "metadata": {},
   "outputs": [
    {
     "data": {
      "text/plain": [
       "363260476724460905494401535652112420360650071868456654624760819153869863881866601328369615352654932293720651207892134093621906683342676123196992617618591758811915342356945274814972198153119756855018435780197576294533888963406555441299990085560430001691921051950556094241290333277596400728154282399994625909384344515532615873472614172003926462488277768090001674286204430064329310326717719677834011825207205914154251397295714308111123184773138647350871137519396554851047606194905156563981516033460640860873978672644091830701475217730032149055880935448810931294219853261346903492442117227234018165734394106324816856406"
      ]
     },
     "execution_count": 21,
     "metadata": {},
     "output_type": "execute_result"
    }
   ],
   "source": [
    "c1.value "
   ]
  },
  {
   "cell_type": "markdown",
   "id": "fcf90601-d8e1-4837-8756-59fda1e03e1d",
   "metadata": {},
   "source": [
    "## Regenerating Chipertext"
   ]
  },
  {
   "cell_type": "code",
   "execution_count": 25,
   "id": "c2245c67-d530-4149-a497-c5e7544bc90d",
   "metadata": {},
   "outputs": [],
   "source": [
    "c1_new = cs.regenerate_ciphertext(c1)"
   ]
  },
  {
   "cell_type": "code",
   "execution_count": 28,
   "id": "254ef076-f670-46ee-8266-5df0fa529934",
   "metadata": {},
   "outputs": [
    {
     "data": {
      "text/plain": [
       "2228210223093617349406477624190282410372803651070485261284864962122054284478807033684469229540260552901048248744276071713932223218602550139811476851344132011536498336356249337437458837472656255391242988037910276989221234496261980991869111057448464989675603789434629990653556899490655553901334105897058109849336528922083309893089249261844342095274525332205430818702094158023107484598671449190475191613642113602002859204093821771787464854014668158757610916561551009621977647520754447631606308206678412755973023774184332523993790251486390546659135819109761561666491071856748229800953229706376044537822513255938464673670"
      ]
     },
     "execution_count": 28,
     "metadata": {},
     "output_type": "execute_result"
    }
   ],
   "source": [
    "c1_new.value"
   ]
  },
  {
   "cell_type": "code",
   "execution_count": 26,
   "id": "4ca29a65-938c-48ab-9cf6-80246c0a80c1",
   "metadata": {},
   "outputs": [
    {
     "data": {
      "text/plain": [
       "10"
      ]
     },
     "execution_count": 26,
     "metadata": {},
     "output_type": "execute_result"
    }
   ],
   "source": [
    "cs.decrypt(c1)"
   ]
  },
  {
   "cell_type": "code",
   "execution_count": 27,
   "id": "bbd2b60a-5073-4283-9667-9183a1691e41",
   "metadata": {},
   "outputs": [
    {
     "data": {
      "text/plain": [
       "10"
      ]
     },
     "execution_count": 27,
     "metadata": {},
     "output_type": "execute_result"
    }
   ],
   "source": [
    "cs.decrypt(c1_new)"
   ]
  },
  {
   "cell_type": "markdown",
   "id": "92a7b855-1a35-4744-a0bc-899987708072",
   "metadata": {},
   "source": [
    "# Let's try with Goldwasser_Micali Algorithm"
   ]
  },
  {
   "cell_type": "code",
   "execution_count": 29,
   "id": "d1d42ded-ab9a-4bda-8bf0-a3ad5d444c1d",
   "metadata": {},
   "outputs": [],
   "source": [
    "cs = LightPHE(algorithm_name = 'Goldwasser-Micali')"
   ]
  },
  {
   "cell_type": "code",
   "execution_count": 30,
   "id": "a1f0c956-43aa-47d3-afa6-adf40331fe6e",
   "metadata": {},
   "outputs": [],
   "source": [
    "m1=10\n",
    "m2=20"
   ]
  },
  {
   "cell_type": "code",
   "execution_count": 31,
   "id": "40fbab97-7036-41a5-a4c5-1e4eefdfb71d",
   "metadata": {},
   "outputs": [],
   "source": [
    "c1 = cs.encrypt(plaintext=m1)\n",
    "c2 = cs.encrypt(plaintext=m2)"
   ]
  },
  {
   "cell_type": "code",
   "execution_count": 35,
   "id": "06c42894-17ca-4aee-92fb-002b06758fda",
   "metadata": {},
   "outputs": [
    {
     "data": {
      "text/plain": [
       "Ciphertext([44290403592503339262249470786, 11496689223325516104428223548, 50487648525610910371016559428, 22295887898331580830066150354])"
      ]
     },
     "execution_count": 35,
     "metadata": {},
     "output_type": "execute_result"
    }
   ],
   "source": [
    " c1 ^ c2  # Exclusive OR"
   ]
  },
  {
   "cell_type": "code",
   "execution_count": null,
   "id": "af1e31cc-95ef-4f61-bfed-818fe00e7223",
   "metadata": {},
   "outputs": [],
   "source": []
  }
 ],
 "metadata": {
  "kernelspec": {
   "display_name": "Python 3 (ipykernel)",
   "language": "python",
   "name": "python3"
  },
  "language_info": {
   "codemirror_mode": {
    "name": "ipython",
    "version": 3
   },
   "file_extension": ".py",
   "mimetype": "text/x-python",
   "name": "python",
   "nbconvert_exporter": "python",
   "pygments_lexer": "ipython3",
   "version": "3.10.5"
  }
 },
 "nbformat": 4,
 "nbformat_minor": 5
}
