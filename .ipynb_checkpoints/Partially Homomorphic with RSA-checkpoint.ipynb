{
 "cells": [
  {
   "cell_type": "code",
   "execution_count": 1,
   "id": "0da2b416-e7e0-451d-9c75-883ac7061c46",
   "metadata": {},
   "outputs": [],
   "source": [
    "def is_prime(n):\n",
    "    if i in range(2,n):\n",
    "        if n % i ==0:\n",
    "            return False\n",
    "        return True"
   ]
  },
  {
   "cell_type": "code",
   "execution_count": null,
   "id": "90116971-e573-4075-aee7-a65dab3558b0",
   "metadata": {},
   "outputs": [],
   "source": []
  }
 ],
 "metadata": {
  "kernelspec": {
   "display_name": "Python 3 (ipykernel)",
   "language": "python",
   "name": "python3"
  },
  "language_info": {
   "codemirror_mode": {
    "name": "ipython",
    "version": 3
   },
   "file_extension": ".py",
   "mimetype": "text/x-python",
   "name": "python",
   "nbconvert_exporter": "python",
   "pygments_lexer": "ipython3",
   "version": "3.10.5"
  }
 },
 "nbformat": 4,
 "nbformat_minor": 5
}
